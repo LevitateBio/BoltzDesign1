{
 "cells": [
  {
   "cell_type": "code",
   "execution_count": 1,
   "metadata": {},
   "outputs": [
    {
     "name": "stderr",
     "output_type": "stream",
     "text": [
      "/home/jupyter-yehlin/.local/lib/python3.9/site-packages/torch/utils/_pytree.py:185: FutureWarning: optree is installed but the version is too old to support PyTorch Dynamo in C++ pytree. C++ pytree support is disabled. Please consider upgrading optree using `python3 -m pip install --upgrade 'optree>=0.13.0'`.\n",
      "  warnings.warn(\n"
     ]
    }
   ],
   "source": [
    "import os\n",
    "os.environ[\"CUDA_DEVICE_ORDER\"] = \"PCI_BUS_ID\"\n",
    "os.environ[\"CUDA_VISIBLE_DEVICES\"] = \"1\"\n",
    "\n",
    "import sys\n",
    "sys.path.append('/home/jupyter-yehlin/Pairformer/boltzdesign')\n",
    "from boltzdesign_utils import *\n",
    "from ligandmpnn_utils import *"
   ]
  },
  {
   "cell_type": "code",
   "execution_count": 2,
   "metadata": {},
   "outputs": [],
   "source": [
    "## ccd_library \n",
    "import pickle\n",
    "import rdkit\n",
    "filename = '/home/jupyter-yehlin/Pairformer/boltz/ccd.pkl'\n",
    "ccd_lib = pickle.load(open(filename, 'rb'))"
   ]
  },
  {
   "cell_type": "code",
   "execution_count": null,
   "metadata": {},
   "outputs": [],
   "source": [
    "device = torch.device(\"cuda:0\" if torch.cuda.is_available() else \"cpu\")\n",
    "predict_args = {\n",
    "    \"recycling_steps\": 0,  # Default value\n",
    "    \"sampling_steps\": 200,  # Default value\n",
    "    \"diffusion_samples\": 1,  # Default value\n",
    "    \"write_confidence_summary\": True,\n",
    "    \"write_full_pae\": False,\n",
    "    \"write_full_pde\": False,\n",
    "}\n",
    "\n",
    "boltz_model = get_boltz_model('/home/jupyter-yehlin/Pairformer/boltz/boltz1_conf.ckpt',predict_args,device)\n",
    "boltz_model.train()"
   ]
  },
  {
   "cell_type": "markdown",
   "metadata": {},
   "source": [
    "## Run BoltzDesign"
   ]
  },
  {
   "cell_type": "code",
   "execution_count": 5,
   "metadata": {},
   "outputs": [],
   "source": [
    "##default config\n",
    "config = {\n",
    "    'mutation_rate': 1,\n",
    "    'pre_iteration': 30,\n",
    "    'soft_iteration': 75, \n",
    "    'temp_iteration': 45,\n",
    "    'hard_iteration': 5,\n",
    "    'semi_greedy_steps': 0,\n",
    "    'learning_rate_pre': 0.2,\n",
    "    'learning_rate': 0.1,\n",
    "    'design_algorithm': '3stages',\n",
    "    'set_train': True,\n",
    "    'use_temp': True,\n",
    "    'disconnect_feats': True,\n",
    "    'disconnect_pairformer': False,\n",
    "    'length': 150,\n",
    "    'distogram_only': True,\n",
    "    'binder_chain': 'A', ## A or B\n",
    "    'small_molecule': True,\n",
    "    'mask_ligand': False,\n",
    "    'optimize_per_contact_per_binder_pos': True\n",
    "}\n"
   ]
  },
  {
   "cell_type": "code",
   "execution_count": 6,
   "metadata": {},
   "outputs": [
    {
     "name": "stdout",
     "output_type": "stream",
     "text": [
      "8vhp.yaml\n",
      "6CZI.yaml\n",
      "1HXD.yaml\n",
      "3WC0.yaml\n"
     ]
    }
   ],
   "source": [
    "yaml_dir = '/home/jupyter-yehlin/Pairformer/boltzdesign/examples/small_molecule'\n",
    "for yaml_path in os.listdir(yaml_dir):\n",
    "    if yaml_path.endswith('.yaml'):\n",
    "        print(yaml_path)"
   ]
  },
  {
   "cell_type": "code",
   "execution_count": 7,
   "metadata": {},
   "outputs": [
    {
     "name": "stdout",
     "output_type": "stream",
     "text": [
      "pre-run warm up\n",
      "Found explicit empty MSA for some proteins, will run these in single sequence mode. Keep in mind that the model predictions will be suboptimal without an MSA.\n",
      "set in train mode\n",
      "Pre run- input_res_type tensor([[[ 0.0178,  0.0476, -0.0488,  ...,  0.1800,  0.1728,  0.1661],\n",
      "         [ 0.2573,  0.2069, -0.0754,  ...,  0.0555,  0.0835,  0.0121],\n",
      "         [-0.1713, -0.0057,  0.3168,  ..., -0.0761, -0.0728,  0.0073],\n",
      "         ...,\n",
      "         [ 0.0000,  0.0000,  0.0000,  ...,  0.0000,  0.0000,  0.0000],\n",
      "         [ 0.0000,  0.0000,  0.0000,  ...,  0.0000,  0.0000,  0.0000],\n",
      "         [ 0.0000,  0.0000,  0.0000,  ...,  0.0000,  0.0000,  0.0000]]],\n",
      "       device='cuda:0')\n",
      "Error processing 8vhp iteration 1: design() got an unexpected keyword argument 'optimize_per_contact_per_binder_pos'\n",
      "pre-run warm up\n",
      "Found explicit empty MSA for some proteins, will run these in single sequence mode. Keep in mind that the model predictions will be suboptimal without an MSA.\n",
      "set in train mode\n",
      "Pre run- input_res_type tensor([[[ 0.0407,  0.1468, -0.0827,  ...,  0.0164, -0.0031,  0.0880],\n",
      "         [ 0.1984,  0.0180, -0.1214,  ...,  0.0152,  0.0251, -0.0065],\n",
      "         [ 0.0023,  0.0554,  0.0787,  ...,  0.0059,  0.4057,  0.2186],\n",
      "         ...,\n",
      "         [ 0.0000,  0.0000,  0.0000,  ...,  0.0000,  0.0000,  0.0000],\n",
      "         [ 0.0000,  0.0000,  0.0000,  ...,  0.0000,  0.0000,  0.0000],\n",
      "         [ 0.0000,  0.0000,  0.0000,  ...,  0.0000,  0.0000,  0.0000]]],\n",
      "       device='cuda:0')\n",
      "Error processing 6CZI iteration 1: design() got an unexpected keyword argument 'optimize_per_contact_per_binder_pos'\n",
      "pre-run warm up\n",
      "Found explicit empty MSA for some proteins, will run these in single sequence mode. Keep in mind that the model predictions will be suboptimal without an MSA.\n",
      "set in train mode\n",
      "Pre run- input_res_type tensor([[[-0.0478,  0.0768, -0.0831,  ..., -0.0457, -0.0761, -0.0442],\n",
      "         [-0.0179,  0.1982,  0.1098,  ...,  0.0168,  0.0567,  0.1467],\n",
      "         [-0.0137,  0.2402,  0.2223,  ..., -0.1003,  0.2233,  0.0072],\n",
      "         ...,\n",
      "         [ 0.0000,  0.0000,  0.0000,  ...,  0.0000,  0.0000,  0.0000],\n",
      "         [ 0.0000,  0.0000,  0.0000,  ...,  0.0000,  0.0000,  0.0000],\n",
      "         [ 0.0000,  0.0000,  0.0000,  ...,  0.0000,  0.0000,  0.0000]]],\n",
      "       device='cuda:0')\n",
      "Error processing 1HXD iteration 1: design() got an unexpected keyword argument 'optimize_per_contact_per_binder_pos'\n",
      "pre-run warm up\n",
      "Found explicit empty MSA for some proteins, will run these in single sequence mode. Keep in mind that the model predictions will be suboptimal without an MSA.\n",
      "set in train mode\n",
      "Pre run- input_res_type tensor([[[ 0.1552,  0.1024,  0.1856,  ...,  0.0187,  0.0287, -0.0151],\n",
      "         [ 0.2062, -0.0044,  0.2140,  ...,  0.0378,  0.1165,  0.1645],\n",
      "         [-0.0564,  0.4561,  0.1542,  ..., -0.0499,  0.0607, -0.1085],\n",
      "         ...,\n",
      "         [ 0.0000,  0.0000,  0.0000,  ...,  0.0000,  0.0000,  0.0000],\n",
      "         [ 0.0000,  0.0000,  0.0000,  ...,  0.0000,  0.0000,  0.0000],\n",
      "         [ 0.0000,  0.0000,  0.0000,  ...,  0.0000,  0.0000,  0.0000]]],\n",
      "       device='cuda:0')\n",
      "Error processing 3WC0 iteration 1: design() got an unexpected keyword argument 'optimize_per_contact_per_binder_pos'\n"
     ]
    }
   ],
   "source": [
    "# Set up directories\n",
    "main_dir = '/home/jupyter-yehlin/Pairformer/boltzdesign/examples_test'\n",
    "yaml_dir = '/home/jupyter-yehlin/Pairformer/boltzdesign/examples/small_molecule'\n",
    "os.makedirs(main_dir, exist_ok=True)\n",
    "\n",
    "version_name = 'small_molecule'\n",
    "design_samples = 5\n",
    "\n",
    "loss_scales = {\n",
    "    'con_loss': 1.0,\n",
    "    'i_con_loss': 1.0, \n",
    "    'helix_loss': -0.2,\n",
    "    'plddt_loss': 0.1,\n",
    "    'pae_loss': 0.4,\n",
    "    'i_pae_loss': 0.1,\n",
    "    'rg_loss': 0.4,\n",
    "}\n",
    "\n",
    "run_boltz_design(\n",
    "    main_dir=main_dir,\n",
    "    yaml_dir=yaml_dir, \n",
    "    boltz_model=boltz_model,\n",
    "    ccd_lib=ccd_lib,\n",
    "    design_samples=design_samples,\n",
    "    version_name=version_name,\n",
    "    config=config, \n",
    "    loss_scales=loss_scales\n",
    ")"
   ]
  },
  {
   "cell_type": "markdown",
   "metadata": {},
   "source": [
    "## 2. LigandMPNN Redesign"
   ]
  },
  {
   "cell_type": "code",
   "execution_count": null,
   "metadata": {},
   "outputs": [
    {
     "name": "stdout",
     "output_type": "stream",
     "text": [
      "Converting /home/jupyter-yehlin/Pairformer/boltzdesign/examples/rfdiffusion_small_molecule/results_final/boltz_results_7v11_results_itr1_length150/predictions/7v11_results_itr1_length150/7v11_results_itr1_length150_model_0.cif\n",
      "Converting /home/jupyter-yehlin/Pairformer/boltzdesign/examples/rfdiffusion_small_molecule/results_final/boltz_results_5sdv_results_itr1_length150/predictions/5sdv_results_itr1_length150/5sdv_results_itr1_length150_model_0.cif\n",
      "Converting /home/jupyter-yehlin/Pairformer/boltzdesign/examples/rfdiffusion_small_molecule/results_final/boltz_results_7bkc_results_itr1_length150/predictions/7bkc_results_itr1_length150/7bkc_results_itr1_length150_model_0.cif\n"
     ]
    },
    {
     "name": "stderr",
     "output_type": "stream",
     "text": [
      "DEBUG: 1352 atoms and 1 coordinate set(s) were parsed in 0.01s.\n"
     ]
    },
    {
     "name": "stdout",
     "output_type": "stream",
     "text": [
      "len interface_residues 14\n"
     ]
    },
    {
     "name": "stderr",
     "output_type": "stream",
     "text": [
      "DEBUG: 1352 atoms and 1 coordinate set(s) were parsed in 0.01s.\n"
     ]
    },
    {
     "name": "stdout",
     "output_type": "stream",
     "text": [
      "Designing protein from this path: /home/jupyter-yehlin/Pairformer/boltzdesign/examples/rfdiffusion_small_molecule/pdb/7v11_results_itr1_length150_model_0.pdb\n",
      "fixed_residues ['A31', 'A32', 'A33', 'A34', 'A64', 'A67', 'A76', 'A82', 'A83', 'A86', 'A87', 'A90', 'A120', 'A123']\n",
      "These residues will be redesigned:  ['A1', 'A2', 'A3', 'A4', 'A5', 'A6', 'A7', 'A8', 'A9', 'A10', 'A11', 'A12', 'A13', 'A14', 'A15', 'A16', 'A17', 'A18', 'A19', 'A20', 'A21', 'A22', 'A23', 'A24', 'A25', 'A26', 'A27', 'A28', 'A29', 'A30', 'A35', 'A36', 'A37', 'A38', 'A39', 'A40', 'A41', 'A42', 'A43', 'A44', 'A45', 'A46', 'A47', 'A48', 'A49', 'A50', 'A51', 'A52', 'A53', 'A54', 'A55', 'A56', 'A57', 'A58', 'A59', 'A60', 'A61', 'A62', 'A63', 'A65', 'A66', 'A68', 'A69', 'A70', 'A71', 'A72', 'A73', 'A74', 'A75', 'A77', 'A78', 'A79', 'A80', 'A81', 'A84', 'A85', 'A88', 'A89', 'A91', 'A92', 'A93', 'A94', 'A95', 'A96', 'A97', 'A98', 'A99', 'A100', 'A101', 'A102', 'A103', 'A104', 'A105', 'A106', 'A107', 'A108', 'A109', 'A110', 'A111', 'A112', 'A113', 'A114', 'A115', 'A116', 'A117', 'A118', 'A119', 'A121', 'A122', 'A124', 'A125', 'A126', 'A127', 'A128', 'A129', 'A130', 'A131', 'A132', 'A133', 'A134', 'A135', 'A136', 'A137', 'A138', 'A139', 'A140', 'A141', 'A142', 'A143', 'A144', 'A145', 'A146', 'A147', 'A148', 'A149', 'A150']\n",
      "These residues will be fixed:  ['A31', 'A32', 'A33', 'A34', 'A64', 'A67', 'A76', 'A82', 'A83', 'A86', 'A87', 'A90', 'A120', 'A123']\n",
      "The number of ligand atoms parsed is equal to: 38\n",
      "[0 0 0 0 0 0 0 0 0 0 0 0 0 0 0 0 1 0 0 0 1 0 0 0 0 0 0 0 0 1 1 1 1 1 1 1 1\n",
      " 0 0 0 0 0 0 0 0 0 0 0 0 0 0 0 0 0 0 0 0 0 0 0 0 1 0 1 0 1 1 0 0 1 0 0 0 1\n",
      " 0 1 1 0 1 0 0 1 1 0 1 1 1 0 0 1 1 0 0 0 0 0 0 0 0 0 0 0 0 0 0 0 0 0 0 0 1\n",
      " 0 0 0 0 0 1 1 1 1 0 0 1 1 0 0 0 0 0 0 0 0 0 0 0 0 0 0 0 0 0 0 0 0 0 0 0 0\n",
      " 0 0]\n",
      "active sites [16, 20, 29, 30, 31, 32, 33, 34, 35, 36, 61, 63, 65, 66, 69, 73, 75, 76, 78, 81, 82, 84, 85, 86, 89, 90, 110, 116, 117, 118, 119, 122, 123]\n",
      "PDB_residues_active_sites ['A17', 'A21', 'A30', 'A31', 'A32', 'A33', 'A34', 'A35', 'A36', 'A37', 'A62', 'A64', 'A66', 'A67', 'A70', 'A74', 'A76', 'A77', 'A79', 'A82', 'A83', 'A85', 'A86', 'A87', 'A90', 'A91', 'A111', 'A117', 'A118', 'A119', 'A120', 'A123', 'A124']\n",
      "/home/jupyter-yehlin/Pairformer/boltzdesign/examples/rfdiffusion_small_molecule/ligandmpnn/boltz_hallucination_success_lmpnn_fa/seqs/7v11_results_itr1_length150_model_0.fa\n",
      "yaml_data\n",
      "{'version': 1, 'sequences': [{'protein': {'id': ['A'], 'sequence': 'PLRPPTAAEMDEYYDFIRRLRAEGAAAGGRQPDPWLLMEALRLWRLTDRDLDDIYAELVAKRSDDWWREFLEKHDPNDVESWYPYFAEKFLKFFLNADDDDPEFQALFNGIMNSGRFPEPDEFYDFLREYFRVREAGKMTPEEFAKAFFS', 'msa': 'empty'}}, {'ligand': {'id': ['B'], 'smiles': 'Fc1c(Cl)ccc(n2cnnn2)c1c1c[n+]([O-])c(cc1)C(CC1CC1)n1cc(cn1)c1ccc(N)nc1C'}}]}\n",
      "final_yaml_path\n",
      "/home/jupyter-yehlin/Pairformer/boltzdesign/examples/rfdiffusion_small_molecule/ligandmpnn/boltz_hallucination_success_lmpnn_yaml/7v11_results_itr1_length150_model_0_1.yaml\n"
     ]
    },
    {
     "name": "stderr",
     "output_type": "stream",
     "text": [
      "/home/jupyter-yehlin/.local/lib/python3.9/site-packages/torch/utils/_pytree.py:185: FutureWarning: optree is installed but the version is too old to support PyTorch Dynamo in C++ pytree. C++ pytree support is disabled. Please consider upgrading optree using `python3 -m pip install --upgrade 'optree>=0.13.0'`.\n",
      "  warnings.warn(\n"
     ]
    },
    {
     "name": "stdout",
     "output_type": "stream",
     "text": [
      "Checking input data.\n",
      "Running predictions for 1 structure\n",
      "Processing input data.\n"
     ]
    },
    {
     "name": "stderr",
     "output_type": "stream",
     "text": [
      "  0%|          | 0/1 [00:00<?, ?it/s]"
     ]
    },
    {
     "name": "stdout",
     "output_type": "stream",
     "text": [
      "Found explicit empty MSA for some proteins, will run these in single sequence mode. Keep in mind that the model predictions will be suboptimal without an MSA.\n"
     ]
    },
    {
     "name": "stderr",
     "output_type": "stream",
     "text": [
      "100%|██████████| 1/1 [00:00<00:00,  4.35it/s]\n",
      "GPU available: True (cuda), used: True\n",
      "TPU available: False, using: 0 TPU cores\n",
      "HPU available: False, using: 0 HPUs\n",
      "You are using a CUDA device ('NVIDIA A100 80GB PCIe') that has Tensor Cores. To properly utilize them, you should set `torch.set_float32_matmul_precision('medium' | 'high')` which will trade-off precision for performance. For more details, read https://pytorch.org/docs/stable/generated/torch.set_float32_matmul_precision.html#torch.set_float32_matmul_precision\n",
      "2025-04-18 08:56:51.285157: I tensorflow/core/platform/cpu_feature_guard.cc:193] This TensorFlow binary is optimized with oneAPI Deep Neural Network Library (oneDNN) to use the following CPU instructions in performance-critical operations:  AVX2 AVX512F AVX512_VNNI FMA\n",
      "To enable them in other operations, rebuild TensorFlow with the appropriate compiler flags.\n",
      "2025-04-18 08:56:51.488745: I tensorflow/core/util/util.cc:169] oneDNN custom operations are on. You may see slightly different numerical results due to floating-point round-off errors from different computation orders. To turn them off, set the environment variable `TF_ENABLE_ONEDNN_OPTS=0`.\n",
      "2025-04-18 08:56:51.532129: E tensorflow/stream_executor/cuda/cuda_blas.cc:2981] Unable to register cuBLAS factory: Attempting to register factory for plugin cuBLAS when one has already been registered\n",
      "LOCAL_RANK: 0 - CUDA_VISIBLE_DEVICES: [1]\n"
     ]
    },
    {
     "name": "stdout",
     "output_type": "stream",
     "text": [
      "Predicting DataLoader 0:   0%|          | 0/1 [00:00<?, ?it/s]imitation trunk\n",
      "Predicting DataLoader 0: 100%|██████████| 1/1 [00:08<00:00,  0.11it/s]Number of failed examples: 0\n",
      "Predicting DataLoader 0: 100%|██████████| 1/1 [00:08<00:00,  0.11it/s]\n"
     ]
    },
    {
     "name": "stderr",
     "output_type": "stream",
     "text": [
      "DEBUG: 1375 atoms and 1 coordinate set(s) were parsed in 0.03s.\n",
      "DEBUG: 1375 atoms and 1 coordinate set(s) were parsed in 0.02s.\n"
     ]
    },
    {
     "name": "stdout",
     "output_type": "stream",
     "text": [
      "Completed processing 7v11_results_itr1_length150_model_0 for sequence 1\n",
      "len interface_residues 14\n",
      "Designing protein from this path: /home/jupyter-yehlin/Pairformer/boltzdesign/examples/rfdiffusion_small_molecule/pdb/5sdv_results_itr1_length150_model_0.pdb\n",
      "fixed_residues ['A10', 'A13', 'A14', 'A17', 'A18', 'A19', 'A20', 'A21', 'A22', 'A90', 'A110', 'A111', 'A113', 'A114']\n",
      "These residues will be redesigned:  ['A1', 'A2', 'A3', 'A4', 'A5', 'A6', 'A7', 'A8', 'A9', 'A11', 'A12', 'A15', 'A16', 'A23', 'A24', 'A25', 'A26', 'A27', 'A28', 'A29', 'A30', 'A31', 'A32', 'A33', 'A34', 'A35', 'A36', 'A37', 'A38', 'A39', 'A40', 'A41', 'A42', 'A43', 'A44', 'A45', 'A46', 'A47', 'A48', 'A49', 'A50', 'A51', 'A52', 'A53', 'A54', 'A55', 'A56', 'A57', 'A58', 'A59', 'A60', 'A61', 'A62', 'A63', 'A64', 'A65', 'A66', 'A67', 'A68', 'A69', 'A70', 'A71', 'A72', 'A73', 'A74', 'A75', 'A76', 'A77', 'A78', 'A79', 'A80', 'A81', 'A82', 'A83', 'A84', 'A85', 'A86', 'A87', 'A88', 'A89', 'A91', 'A92', 'A93', 'A94', 'A95', 'A96', 'A97', 'A98', 'A99', 'A100', 'A101', 'A102', 'A103', 'A104', 'A105', 'A106', 'A107', 'A108', 'A109', 'A112', 'A115', 'A116', 'A117', 'A118', 'A119', 'A120', 'A121', 'A122', 'A123', 'A124', 'A125', 'A126', 'A127', 'A128', 'A129', 'A130', 'A131', 'A132', 'A133', 'A134', 'A135', 'A136', 'A137', 'A138', 'A139', 'A140', 'A141', 'A142', 'A143', 'A144', 'A145', 'A146', 'A147', 'A148', 'A149', 'A150']\n",
      "These residues will be fixed:  ['A10', 'A13', 'A14', 'A17', 'A18', 'A19', 'A20', 'A21', 'A22', 'A90', 'A110', 'A111', 'A113', 'A114']\n",
      "The number of ligand atoms parsed is equal to: 33\n",
      "[0 0 0 0 0 0 0 0 0 1 1 0 1 1 0 1 1 1 1 1 1 1 0 1 1 0 0 0 0 0 0 0 0 0 0 0 0\n",
      " 0 0 0 0 0 0 0 0 0 0 0 0 0 0 0 0 0 0 0 0 0 0 0 0 0 0 0 0 0 0 0 0 0 0 0 0 0\n",
      " 0 0 0 0 0 0 0 0 0 0 0 0 0 0 0 1 1 0 1 1 0 0 0 0 0 0 0 0 0 0 0 0 1 0 1 1 1\n",
      " 0 1 1 0 0 1 0 0 0 0 0 0 0 0 0 0 0 0 0 0 0 0 0 0 0 0 0 0 0 0 0 1 0 0 0 1 0\n",
      " 0 0]\n",
      "active sites [9, 10, 12, 13, 15, 16, 17, 18, 19, 20, 21, 23, 24, 89, 90, 92, 93, 106, 108, 109, 110, 112, 113, 116, 142, 146]\n",
      "PDB_residues_active_sites ['A10', 'A11', 'A13', 'A14', 'A16', 'A17', 'A18', 'A19', 'A20', 'A21', 'A22', 'A24', 'A25', 'A90', 'A91', 'A93', 'A94', 'A107', 'A109', 'A110', 'A111', 'A113', 'A114', 'A117', 'A143', 'A147']\n",
      "/home/jupyter-yehlin/Pairformer/boltzdesign/examples/rfdiffusion_small_molecule/ligandmpnn/boltz_hallucination_success_lmpnn_fa/seqs/5sdv_results_itr1_length150_model_0.fa\n",
      "yaml_data\n",
      "{'version': 1, 'sequences': [{'protein': {'id': ['A'], 'sequence': 'DPATVDFDAFLALAERFRNWDDKDYEAYEKEMDKKFKNNTDNPYGQEYNSIKGKNAKEVLEARKALRKKYPNETSEDFKELDNYMIRRYWHLVNTEYADDPEFARVLEDMRRDEAALLAARDDPAAQRAVIADMAARGRLDWWREFFGWT', 'msa': 'empty'}}, {'ligand': {'id': ['B'], 'smiles': 'O=C(NCc1cocn1)c1cnn(C)c1C(=O)Nc1ccn2cc(nc2n1)c1ccccc1'}}]}\n",
      "final_yaml_path\n",
      "/home/jupyter-yehlin/Pairformer/boltzdesign/examples/rfdiffusion_small_molecule/ligandmpnn/boltz_hallucination_success_lmpnn_yaml/5sdv_results_itr1_length150_model_0_1.yaml\n"
     ]
    },
    {
     "name": "stderr",
     "output_type": "stream",
     "text": [
      "/home/jupyter-yehlin/.local/lib/python3.9/site-packages/torch/utils/_pytree.py:185: FutureWarning: optree is installed but the version is too old to support PyTorch Dynamo in C++ pytree. C++ pytree support is disabled. Please consider upgrading optree using `python3 -m pip install --upgrade 'optree>=0.13.0'`.\n",
      "  warnings.warn(\n"
     ]
    },
    {
     "name": "stdout",
     "output_type": "stream",
     "text": [
      "Checking input data.\n",
      "Running predictions for 1 structure\n",
      "Processing input data.\n"
     ]
    },
    {
     "name": "stderr",
     "output_type": "stream",
     "text": [
      "100%|██████████| 1/1 [00:00<00:00,  6.50it/s]\n"
     ]
    },
    {
     "name": "stdout",
     "output_type": "stream",
     "text": [
      "Found explicit empty MSA for some proteins, will run these in single sequence mode. Keep in mind that the model predictions will be suboptimal without an MSA.\n"
     ]
    },
    {
     "name": "stderr",
     "output_type": "stream",
     "text": [
      "GPU available: True (cuda), used: True\n",
      "TPU available: False, using: 0 TPU cores\n",
      "HPU available: False, using: 0 HPUs\n",
      "You are using a CUDA device ('NVIDIA A100 80GB PCIe') that has Tensor Cores. To properly utilize them, you should set `torch.set_float32_matmul_precision('medium' | 'high')` which will trade-off precision for performance. For more details, read https://pytorch.org/docs/stable/generated/torch.set_float32_matmul_precision.html#torch.set_float32_matmul_precision\n",
      "2025-04-18 08:57:48.934515: I tensorflow/core/platform/cpu_feature_guard.cc:193] This TensorFlow binary is optimized with oneAPI Deep Neural Network Library (oneDNN) to use the following CPU instructions in performance-critical operations:  AVX2 AVX512F AVX512_VNNI FMA\n",
      "To enable them in other operations, rebuild TensorFlow with the appropriate compiler flags.\n",
      "2025-04-18 08:57:49.053899: I tensorflow/core/util/util.cc:169] oneDNN custom operations are on. You may see slightly different numerical results due to floating-point round-off errors from different computation orders. To turn them off, set the environment variable `TF_ENABLE_ONEDNN_OPTS=0`.\n",
      "2025-04-18 08:57:49.083210: E tensorflow/stream_executor/cuda/cuda_blas.cc:2981] Unable to register cuBLAS factory: Attempting to register factory for plugin cuBLAS when one has already been registered\n",
      "LOCAL_RANK: 0 - CUDA_VISIBLE_DEVICES: [1]\n"
     ]
    },
    {
     "name": "stdout",
     "output_type": "stream",
     "text": [
      "Predicting DataLoader 0:   0%|          | 0/1 [00:00<?, ?it/s]imitation trunk\n",
      "Predicting DataLoader 0: 100%|██████████| 1/1 [00:08<00:00,  0.12it/s]Number of failed examples: 0\n",
      "Predicting DataLoader 0: 100%|██████████| 1/1 [00:08<00:00,  0.12it/s]\n"
     ]
    },
    {
     "name": "stderr",
     "output_type": "stream",
     "text": [
      "DEBUG: 1368 atoms and 1 coordinate set(s) were parsed in 0.03s.\n",
      "DEBUG: 1368 atoms and 1 coordinate set(s) were parsed in 0.01s.\n"
     ]
    },
    {
     "name": "stdout",
     "output_type": "stream",
     "text": [
      "Completed processing 5sdv_results_itr1_length150_model_0 for sequence 1\n",
      "len interface_residues 8\n",
      "Designing protein from this path: /home/jupyter-yehlin/Pairformer/boltzdesign/examples/rfdiffusion_small_molecule/pdb/7bkc_results_itr1_length150_model_0.pdb\n",
      "fixed_residues ['A50', 'A53', 'A116', 'A117', 'A134', 'A135', 'A136', 'A137']\n",
      "These residues will be redesigned:  ['A1', 'A2', 'A3', 'A4', 'A5', 'A6', 'A7', 'A8', 'A9', 'A10', 'A11', 'A12', 'A13', 'A14', 'A15', 'A16', 'A17', 'A18', 'A19', 'A20', 'A21', 'A22', 'A23', 'A24', 'A25', 'A26', 'A27', 'A28', 'A29', 'A30', 'A31', 'A32', 'A33', 'A34', 'A35', 'A36', 'A37', 'A38', 'A39', 'A40', 'A41', 'A42', 'A43', 'A44', 'A45', 'A46', 'A47', 'A48', 'A49', 'A51', 'A52', 'A54', 'A55', 'A56', 'A57', 'A58', 'A59', 'A60', 'A61', 'A62', 'A63', 'A64', 'A65', 'A66', 'A67', 'A68', 'A69', 'A70', 'A71', 'A72', 'A73', 'A74', 'A75', 'A76', 'A77', 'A78', 'A79', 'A80', 'A81', 'A82', 'A83', 'A84', 'A85', 'A86', 'A87', 'A88', 'A89', 'A90', 'A91', 'A92', 'A93', 'A94', 'A95', 'A96', 'A97', 'A98', 'A99', 'A100', 'A101', 'A102', 'A103', 'A104', 'A105', 'A106', 'A107', 'A108', 'A109', 'A110', 'A111', 'A112', 'A113', 'A114', 'A115', 'A118', 'A119', 'A120', 'A121', 'A122', 'A123', 'A124', 'A125', 'A126', 'A127', 'A128', 'A129', 'A130', 'A131', 'A132', 'A133', 'A138', 'A139', 'A140', 'A141', 'A142', 'A143', 'A144', 'A145', 'A146', 'A147', 'A148', 'A149', 'A150']\n",
      "These residues will be fixed:  ['A50', 'A53', 'A116', 'A117', 'A134', 'A135', 'A136', 'A137']\n",
      "The number of ligand atoms parsed is equal to: 53\n",
      "[0 0 0 0 0 0 0 0 0 0 0 0 0 0 0 0 0 0 0 0 0 0 0 0 0 1 1 0 0 0 0 0 0 0 0 0 0\n",
      " 0 0 0 0 1 0 0 0 1 0 0 1 1 0 0 1 1 0 1 1 0 0 0 0 0 0 0 0 0 0 0 0 0 0 0 0 0\n",
      " 0 0 0 0 0 0 0 0 0 0 0 0 0 0 0 0 0 0 0 0 0 0 0 0 0 0 0 0 1 0 0 1 0 0 1 1 0\n",
      " 0 0 1 0 1 1 0 0 1 1 0 0 0 0 0 0 0 0 0 0 0 1 1 1 1 1 0 0 1 0 0 0 0 0 0 0 0\n",
      " 0 0]\n",
      "active sites [25, 26, 41, 45, 48, 49, 52, 53, 55, 56, 102, 105, 108, 109, 113, 115, 116, 119, 120, 132, 133, 134, 135, 136, 139]\n",
      "PDB_residues_active_sites ['A26', 'A27', 'A42', 'A46', 'A49', 'A50', 'A53', 'A54', 'A56', 'A57', 'A103', 'A106', 'A109', 'A110', 'A114', 'A116', 'A117', 'A120', 'A121', 'A133', 'A134', 'A135', 'A136', 'A137', 'A140']\n",
      "/home/jupyter-yehlin/Pairformer/boltzdesign/examples/rfdiffusion_small_molecule/ligandmpnn/boltz_hallucination_success_lmpnn_fa/seqs/7bkc_results_itr1_length150_model_0.fa\n",
      "yaml_data\n",
      "{'version': 1, 'sequences': [{'protein': {'id': ['A'], 'sequence': 'MKKYTLDDGRVVSEEEYEEYEKLKAAGIYPNDPEYKKYEAEKPVWDARRHAAWAERAAREAEVAAARAAGASNPAGETAELAALRAADAAFLKRYHAFMAEYHRFRDEYYNKYDPKYKAAAKKAEDSGNKDDVPNNDKFLAEYYAALAKA', 'msa': 'empty'}}, {'ligand': {'id': ['B'], 'smiles': 'O=C2C3=Nc1cc(c(cc1N(C3=NC(=O)N2)CC(O)C(O)C(O)COP(=O)(O)OP(=O)(O)OCC6OC(n5cnc4c(ncnc45)N)C(O)C6O)C)C'}}]}\n",
      "final_yaml_path\n",
      "/home/jupyter-yehlin/Pairformer/boltzdesign/examples/rfdiffusion_small_molecule/ligandmpnn/boltz_hallucination_success_lmpnn_yaml/7bkc_results_itr1_length150_model_0_1.yaml\n"
     ]
    },
    {
     "name": "stderr",
     "output_type": "stream",
     "text": [
      "/home/jupyter-yehlin/.local/lib/python3.9/site-packages/torch/utils/_pytree.py:185: FutureWarning: optree is installed but the version is too old to support PyTorch Dynamo in C++ pytree. C++ pytree support is disabled. Please consider upgrading optree using `python3 -m pip install --upgrade 'optree>=0.13.0'`.\n",
      "  warnings.warn(\n"
     ]
    },
    {
     "ename": "KeyboardInterrupt",
     "evalue": "",
     "output_type": "error",
     "traceback": [
      "\u001b[0;31m---------------------------------------------------------------------------\u001b[0m",
      "\u001b[0;31mKeyboardInterrupt\u001b[0m                         Traceback (most recent call last)",
      "Cell \u001b[0;32mIn[2], line 9\u001b[0m\n\u001b[1;32m      7\u001b[0m os\u001b[38;5;241m.\u001b[39mmakedirs(ligandmpnn_dir, exist_ok\u001b[38;5;241m=\u001b[39m\u001b[38;5;28;01mTrue\u001b[39;00m)\n\u001b[1;32m      8\u001b[0m convert_cif_files_to_pdb(boltzdesign_dir, pdb_save_dir)\n\u001b[0;32m----> 9\u001b[0m \u001b[43mrun_ligandmpnn_redesign\u001b[49m\u001b[43m(\u001b[49m\u001b[43mligandmpnn_dir\u001b[49m\u001b[43m,\u001b[49m\u001b[43m \u001b[49m\u001b[43mpdb_save_dir\u001b[49m\u001b[43m,\u001b[49m\u001b[43m \u001b[49m\u001b[43myaml_dir\u001b[49m\u001b[43m,\u001b[49m\u001b[43m \u001b[49m\u001b[43mtop_k\u001b[49m\u001b[38;5;241;43m=\u001b[39;49m\u001b[38;5;241;43m1\u001b[39;49m\u001b[43m,\u001b[49m\u001b[43m \u001b[49m\u001b[43mcutoff\u001b[49m\u001b[38;5;241;43m=\u001b[39;49m\u001b[38;5;241;43m6\u001b[39;49m\u001b[43m,\u001b[49m\u001b[43m \u001b[49m\u001b[43mnon_protein_ligand\u001b[49m\u001b[38;5;241;43m=\u001b[39;49m\u001b[38;5;28;43;01mTrue\u001b[39;49;00m\u001b[43m,\u001b[49m\u001b[43m \u001b[49m\u001b[43mbinder_chain\u001b[49m\u001b[38;5;241;43m=\u001b[39;49m\u001b[38;5;124;43m'\u001b[39;49m\u001b[38;5;124;43mA\u001b[39;49m\u001b[38;5;124;43m'\u001b[39;49m\u001b[43m,\u001b[49m\u001b[43m \u001b[49m\u001b[43mtarget_chain\u001b[49m\u001b[38;5;241;43m=\u001b[39;49m\u001b[38;5;124;43m'\u001b[39;49m\u001b[38;5;124;43mB\u001b[39;49m\u001b[38;5;124;43m'\u001b[39;49m\u001b[43m)\u001b[49m\n",
      "File \u001b[0;32m~/Pairformer/boltzdesign/ligandmpnn_utils.py:334\u001b[0m, in \u001b[0;36mrun_ligandmpnn_redesign\u001b[0;34m(base_dir, pdb_dir, yaml_dir, top_k, cutoff, non_protein_ligand, binder_chain, target_chain)\u001b[0m\n\u001b[1;32m    331\u001b[0m     yaml\u001b[38;5;241m.\u001b[39mdump(yaml_data, f)\n\u001b[1;32m    333\u001b[0m \u001b[38;5;28;01mimport\u001b[39;00m \u001b[38;5;21;01msubprocess\u001b[39;00m\n\u001b[0;32m--> 334\u001b[0m \u001b[43msubprocess\u001b[49m\u001b[38;5;241;43m.\u001b[39;49m\u001b[43mrun\u001b[49m\u001b[43m(\u001b[49m\u001b[43m[\u001b[49m\u001b[38;5;124;43m'\u001b[39;49m\u001b[38;5;124;43mboltz\u001b[39;49m\u001b[38;5;124;43m'\u001b[39;49m\u001b[43m,\u001b[49m\u001b[43m \u001b[49m\u001b[38;5;124;43m'\u001b[39;49m\u001b[38;5;124;43mpredict\u001b[39;49m\u001b[38;5;124;43m'\u001b[39;49m\u001b[43m,\u001b[49m\u001b[43m \u001b[49m\u001b[38;5;28;43mstr\u001b[39;49m\u001b[43m(\u001b[49m\u001b[43mfinal_yaml_path\u001b[49m\u001b[43m)\u001b[49m\u001b[43m,\u001b[49m\u001b[43m \u001b[49m\u001b[38;5;124;43m'\u001b[39;49m\u001b[38;5;124;43m--out_dir\u001b[39;49m\u001b[38;5;124;43m'\u001b[39;49m\u001b[43m,\u001b[49m\u001b[43m \u001b[49m\u001b[38;5;28;43mstr\u001b[39;49m\u001b[43m(\u001b[49m\u001b[43mresults_final_dir\u001b[49m\u001b[43m)\u001b[49m\u001b[43m,\u001b[49m\u001b[43m \u001b[49m\u001b[38;5;124;43m'\u001b[39;49m\u001b[38;5;124;43m--write_full_pae\u001b[39;49m\u001b[38;5;124;43m'\u001b[39;49m\u001b[43m]\u001b[49m\u001b[43m)\u001b[49m\n\u001b[1;32m    335\u001b[0m \u001b[38;5;28mprint\u001b[39m(\u001b[38;5;124mf\u001b[39m\u001b[38;5;124m\"\u001b[39m\u001b[38;5;124mCompleted processing \u001b[39m\u001b[38;5;132;01m{\u001b[39;00mpdb_name\u001b[38;5;132;01m}\u001b[39;00m\u001b[38;5;124m for sequence \u001b[39m\u001b[38;5;132;01m{\u001b[39;00midx\u001b[38;5;241m+\u001b[39m\u001b[38;5;241m1\u001b[39m\u001b[38;5;132;01m}\u001b[39;00m\u001b[38;5;124m\"\u001b[39m)\n",
      "File \u001b[0;32m~/.conda/envs/boltz_env/lib/python3.9/subprocess.py:507\u001b[0m, in \u001b[0;36mrun\u001b[0;34m(input, capture_output, timeout, check, *popenargs, **kwargs)\u001b[0m\n\u001b[1;32m    505\u001b[0m \u001b[38;5;28;01mwith\u001b[39;00m Popen(\u001b[38;5;241m*\u001b[39mpopenargs, \u001b[38;5;241m*\u001b[39m\u001b[38;5;241m*\u001b[39mkwargs) \u001b[38;5;28;01mas\u001b[39;00m process:\n\u001b[1;32m    506\u001b[0m     \u001b[38;5;28;01mtry\u001b[39;00m:\n\u001b[0;32m--> 507\u001b[0m         stdout, stderr \u001b[38;5;241m=\u001b[39m \u001b[43mprocess\u001b[49m\u001b[38;5;241;43m.\u001b[39;49m\u001b[43mcommunicate\u001b[49m\u001b[43m(\u001b[49m\u001b[38;5;28;43minput\u001b[39;49m\u001b[43m,\u001b[49m\u001b[43m \u001b[49m\u001b[43mtimeout\u001b[49m\u001b[38;5;241;43m=\u001b[39;49m\u001b[43mtimeout\u001b[49m\u001b[43m)\u001b[49m\n\u001b[1;32m    508\u001b[0m     \u001b[38;5;28;01mexcept\u001b[39;00m TimeoutExpired \u001b[38;5;28;01mas\u001b[39;00m exc:\n\u001b[1;32m    509\u001b[0m         process\u001b[38;5;241m.\u001b[39mkill()\n",
      "File \u001b[0;32m~/.conda/envs/boltz_env/lib/python3.9/subprocess.py:1126\u001b[0m, in \u001b[0;36mPopen.communicate\u001b[0;34m(self, input, timeout)\u001b[0m\n\u001b[1;32m   1124\u001b[0m         stderr \u001b[38;5;241m=\u001b[39m \u001b[38;5;28mself\u001b[39m\u001b[38;5;241m.\u001b[39mstderr\u001b[38;5;241m.\u001b[39mread()\n\u001b[1;32m   1125\u001b[0m         \u001b[38;5;28mself\u001b[39m\u001b[38;5;241m.\u001b[39mstderr\u001b[38;5;241m.\u001b[39mclose()\n\u001b[0;32m-> 1126\u001b[0m     \u001b[38;5;28;43mself\u001b[39;49m\u001b[38;5;241;43m.\u001b[39;49m\u001b[43mwait\u001b[49m\u001b[43m(\u001b[49m\u001b[43m)\u001b[49m\n\u001b[1;32m   1127\u001b[0m \u001b[38;5;28;01melse\u001b[39;00m:\n\u001b[1;32m   1128\u001b[0m     \u001b[38;5;28;01mif\u001b[39;00m timeout \u001b[38;5;129;01mis\u001b[39;00m \u001b[38;5;129;01mnot\u001b[39;00m \u001b[38;5;28;01mNone\u001b[39;00m:\n",
      "File \u001b[0;32m~/.conda/envs/boltz_env/lib/python3.9/subprocess.py:1189\u001b[0m, in \u001b[0;36mPopen.wait\u001b[0;34m(self, timeout)\u001b[0m\n\u001b[1;32m   1187\u001b[0m     endtime \u001b[38;5;241m=\u001b[39m _time() \u001b[38;5;241m+\u001b[39m timeout\n\u001b[1;32m   1188\u001b[0m \u001b[38;5;28;01mtry\u001b[39;00m:\n\u001b[0;32m-> 1189\u001b[0m     \u001b[38;5;28;01mreturn\u001b[39;00m \u001b[38;5;28;43mself\u001b[39;49m\u001b[38;5;241;43m.\u001b[39;49m\u001b[43m_wait\u001b[49m\u001b[43m(\u001b[49m\u001b[43mtimeout\u001b[49m\u001b[38;5;241;43m=\u001b[39;49m\u001b[43mtimeout\u001b[49m\u001b[43m)\u001b[49m\n\u001b[1;32m   1190\u001b[0m \u001b[38;5;28;01mexcept\u001b[39;00m \u001b[38;5;167;01mKeyboardInterrupt\u001b[39;00m:\n\u001b[1;32m   1191\u001b[0m     \u001b[38;5;66;03m# https://bugs.python.org/issue25942\u001b[39;00m\n\u001b[1;32m   1192\u001b[0m     \u001b[38;5;66;03m# The first keyboard interrupt waits briefly for the child to\u001b[39;00m\n\u001b[1;32m   1193\u001b[0m     \u001b[38;5;66;03m# exit under the common assumption that it also received the ^C\u001b[39;00m\n\u001b[1;32m   1194\u001b[0m     \u001b[38;5;66;03m# generated SIGINT and will exit rapidly.\u001b[39;00m\n\u001b[1;32m   1195\u001b[0m     \u001b[38;5;28;01mif\u001b[39;00m timeout \u001b[38;5;129;01mis\u001b[39;00m \u001b[38;5;129;01mnot\u001b[39;00m \u001b[38;5;28;01mNone\u001b[39;00m:\n",
      "File \u001b[0;32m~/.conda/envs/boltz_env/lib/python3.9/subprocess.py:1933\u001b[0m, in \u001b[0;36mPopen._wait\u001b[0;34m(self, timeout)\u001b[0m\n\u001b[1;32m   1931\u001b[0m \u001b[38;5;28;01mif\u001b[39;00m \u001b[38;5;28mself\u001b[39m\u001b[38;5;241m.\u001b[39mreturncode \u001b[38;5;129;01mis\u001b[39;00m \u001b[38;5;129;01mnot\u001b[39;00m \u001b[38;5;28;01mNone\u001b[39;00m:\n\u001b[1;32m   1932\u001b[0m     \u001b[38;5;28;01mbreak\u001b[39;00m  \u001b[38;5;66;03m# Another thread waited.\u001b[39;00m\n\u001b[0;32m-> 1933\u001b[0m (pid, sts) \u001b[38;5;241m=\u001b[39m \u001b[38;5;28;43mself\u001b[39;49m\u001b[38;5;241;43m.\u001b[39;49m\u001b[43m_try_wait\u001b[49m\u001b[43m(\u001b[49m\u001b[38;5;241;43m0\u001b[39;49m\u001b[43m)\u001b[49m\n\u001b[1;32m   1934\u001b[0m \u001b[38;5;66;03m# Check the pid and loop as waitpid has been known to\u001b[39;00m\n\u001b[1;32m   1935\u001b[0m \u001b[38;5;66;03m# return 0 even without WNOHANG in odd situations.\u001b[39;00m\n\u001b[1;32m   1936\u001b[0m \u001b[38;5;66;03m# http://bugs.python.org/issue14396.\u001b[39;00m\n\u001b[1;32m   1937\u001b[0m \u001b[38;5;28;01mif\u001b[39;00m pid \u001b[38;5;241m==\u001b[39m \u001b[38;5;28mself\u001b[39m\u001b[38;5;241m.\u001b[39mpid:\n",
      "File \u001b[0;32m~/.conda/envs/boltz_env/lib/python3.9/subprocess.py:1891\u001b[0m, in \u001b[0;36mPopen._try_wait\u001b[0;34m(self, wait_flags)\u001b[0m\n\u001b[1;32m   1889\u001b[0m \u001b[38;5;250m\u001b[39m\u001b[38;5;124;03m\"\"\"All callers to this function MUST hold self._waitpid_lock.\"\"\"\u001b[39;00m\n\u001b[1;32m   1890\u001b[0m \u001b[38;5;28;01mtry\u001b[39;00m:\n\u001b[0;32m-> 1891\u001b[0m     (pid, sts) \u001b[38;5;241m=\u001b[39m \u001b[43mos\u001b[49m\u001b[38;5;241;43m.\u001b[39;49m\u001b[43mwaitpid\u001b[49m\u001b[43m(\u001b[49m\u001b[38;5;28;43mself\u001b[39;49m\u001b[38;5;241;43m.\u001b[39;49m\u001b[43mpid\u001b[49m\u001b[43m,\u001b[49m\u001b[43m \u001b[49m\u001b[43mwait_flags\u001b[49m\u001b[43m)\u001b[49m\n\u001b[1;32m   1892\u001b[0m \u001b[38;5;28;01mexcept\u001b[39;00m \u001b[38;5;167;01mChildProcessError\u001b[39;00m:\n\u001b[1;32m   1893\u001b[0m     \u001b[38;5;66;03m# This happens if SIGCLD is set to be ignored or waiting\u001b[39;00m\n\u001b[1;32m   1894\u001b[0m     \u001b[38;5;66;03m# for child processes has otherwise been disabled for our\u001b[39;00m\n\u001b[1;32m   1895\u001b[0m     \u001b[38;5;66;03m# process.  This child is dead, we can't get the status.\u001b[39;00m\n\u001b[1;32m   1896\u001b[0m     pid \u001b[38;5;241m=\u001b[39m \u001b[38;5;28mself\u001b[39m\u001b[38;5;241m.\u001b[39mpid\n",
      "\u001b[0;31mKeyboardInterrupt\u001b[0m: "
     ]
    }
   ],
   "source": [
    "main_dir = '/home/jupyter-yehlin/Pairformer/boltzdesign/examples/small_molecule'\n",
    "yaml_dir = '/home/jupyter-yehlin/Pairformer/boltzdesign/examples/small_molecule'\n",
    "boltzdesign_dir = main_dir + '/results_final'\n",
    "pdb_save_dir = main_dir + '/pdb'\n",
    "ligandmpnn_dir = main_dir + '/ligandmpnn'\n",
    "\n",
    "os.makedirs(ligandmpnn_dir, exist_ok=True)\n",
    "convert_cif_files_to_pdb(boltzdesign_dir, pdb_save_dir)\n",
    "run_ligandmpnn_redesign(ligandmpnn_dir, pdb_save_dir, yaml_dir, top_k=1, cutoff=6, non_protein_ligand=True, binder_chain='A', target_chain='B')\n"
   ]
  },
  {
   "cell_type": "code",
   "execution_count": 32,
   "metadata": {},
   "outputs": [
    {
     "name": "stdout",
     "output_type": "stream",
     "text": [
      "20.980047\n",
      "5.9006677\n",
      "7v11_results_itr1_length150_model_0_1 length: 150 complex_plddt: 0.82 iptm: 0.61 i-pae: 13.44 pae: 2.93\n",
      "17.219994\n",
      "4.119095\n",
      "5sdv_results_itr1_length150_model_0_1 length: 150 complex_plddt: 0.86 iptm: 0.80 i-pae: 10.67 pae: 3.13\n",
      "19.964653\n",
      "7.0432525\n",
      "7bkc_results_itr1_length150_model_0_1 length: 150 complex_plddt: 0.76 iptm: 0.75 i-pae: 13.50 pae: 7.94\n"
     ]
    }
   ],
   "source": [
    "import json\n",
    "import glob\n",
    "import os\n",
    "import numpy as np\n",
    "\n",
    "ligandmpnn_dir_boltz = ligandmpnn_dir + '/boltz_predictions_success_lmpnn'\n",
    "for root in os.listdir(ligandmpnn_dir_boltz):\n",
    "    root_path = os.path.join(ligandmpnn_dir_boltz, root, 'predictions')\n",
    "    for subdir in os.listdir(root_path):\n",
    "        json_path = os.path.join(root_path, subdir, f'confidence_{subdir}_model_0.json')\n",
    "        pae_path = os.path.join(root_path, subdir, f'pae_{subdir}_model_0.npz')\n",
    "\n",
    "        length = int(subdir[subdir.find('length')+6:subdir.find('_model')])\n",
    "        \n",
    "        if os.path.exists(json_path):\n",
    "            with open(json_path, 'r') as f:\n",
    "                data = json.load(f)\n",
    "            design_name = json_path.split('/')[-2]\n",
    "            try:\n",
    "                pae_data = np.load(pae_path)\n",
    "                pae_matrix = pae_data['pae']\n",
    "                interface_pae = np.mean(((pae_matrix + pae_matrix.T)/2)[:length,length:])\n",
    "                print(np.mean(pae_matrix[length:,:length]))\n",
    "                print(np.mean(pae_matrix[:length,length:]))\n",
    "                intra_pae = np.mean(pae_matrix[:length,:length])\n",
    "                print(f\"{design_name} length: {length} complex_plddt: {data['complex_plddt']:.2f} iptm: {data['iptm']:.2f} i-pae: {interface_pae:.2f} pae: {intra_pae:.2f}\")\n",
    "            except KeyError:\n",
    "                print(f\"{design_name} length: {length} complex_plddt: {data['complex_plddt']:.2f} iptm: {data['iptm']:.2f} PAE data not found\")"
   ]
  }
 ],
 "metadata": {
  "kernelspec": {
   "display_name": "boltz_env",
   "language": "python",
   "name": "python3"
  },
  "language_info": {
   "codemirror_mode": {
    "name": "ipython",
    "version": 3
   },
   "file_extension": ".py",
   "mimetype": "text/x-python",
   "name": "python",
   "nbconvert_exporter": "python",
   "pygments_lexer": "ipython3",
   "version": "3.9.21"
  }
 },
 "nbformat": 4,
 "nbformat_minor": 2
}
